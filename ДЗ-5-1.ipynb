{
 "cells": [
  {
   "cell_type": "code",
   "execution_count": 3,
   "metadata": {},
   "outputs": [
    {
     "data": {
      "text/plain": [
       "array([9, 8, 7, 6, 5, 4, 3, 2, 1, 0])"
      ]
     },
     "execution_count": 3,
     "metadata": {},
     "output_type": "execute_result"
    }
   ],
   "source": [
    "#Задание 1\n",
    "# Создайте numpy array с элементами от числа N до 0\n",
    "# (например, для N = 10 это будет array([9, 8, 7, 6, 5, 4, 3, 2, 1, 0])).\n",
    "import numpy as np\n",
    "N=10\n",
    "a=np.arange(0,N)\n",
    "a[::-1]"
   ]
  },
  {
   "cell_type": "code",
   "execution_count": 13,
   "metadata": {},
   "outputs": [
    {
     "name": "stdout",
     "output_type": "stream",
     "text": [
      "45\n"
     ]
    }
   ],
   "source": [
    "#Задание 2\n",
    "#Создайте диагональную матрицу с элементами от N до 0. Посчитайте сумму ее значений на диагонали\n",
    "\n",
    "import numpy as np\n",
    "N=10\n",
    "a=np.arange(0,N)\n",
    "b=np.diag(a[::-1],0)\n",
    "\n",
    "total_sum = 0\n",
    "for i in range(len(a)):\n",
    "    total_sum += b[i][i]\n",
    "print (total_sum)"
   ]
  },
  {
   "cell_type": "code",
   "execution_count": null,
   "metadata": {},
   "outputs": [],
   "source": [
    "total_sum = 0\n",
    "\n",
    "for i in range(len(a)):\n",
    "    total_sum += a[i][i]\n",
    "print (total_sum)\n"
   ]
  },
  {
   "cell_type": "code",
   "execution_count": 7,
   "metadata": {},
   "outputs": [
    {
     "name": "stdout",
     "output_type": "stream",
     "text": [
      "[ 0.46666667  3.84444444 -5.55555556]\n"
     ]
    }
   ],
   "source": [
    "#Задание 3\n",
    "# Решите систему уравнений:\n",
    "#4x + 2y + z = 4\n",
    "#x + 3y = 12\n",
    "#5y + 4z = -3\n",
    "import numpy as np\n",
    "\n",
    "a=np.array([[4,2,1], [1,3,0],[0,5,4]])\n",
    "b=np.array([4,12,-3])\n",
    "\n",
    "from numpy import linalg\n",
    "print(linalg.solve(a, b))"
   ]
  }
 ],
 "metadata": {
  "kernelspec": {
   "display_name": "Python 3",
   "language": "python",
   "name": "python3"
  },
  "language_info": {
   "codemirror_mode": {
    "name": "ipython",
    "version": 3
   },
   "file_extension": ".py",
   "mimetype": "text/x-python",
   "name": "python",
   "nbconvert_exporter": "python",
   "pygments_lexer": "ipython3",
   "version": "3.7.3"
  }
 },
 "nbformat": 4,
 "nbformat_minor": 2
}
