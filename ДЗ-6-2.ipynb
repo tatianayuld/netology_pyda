{
 "cells": [
  {
   "cell_type": "code",
   "execution_count": 18,
   "metadata": {},
   "outputs": [
    {
     "data": {
      "text/plain": [
       "318    48762\n",
       "Name: movieId, dtype: int64"
      ]
     },
     "execution_count": 18,
     "metadata": {},
     "output_type": "execute_result"
    }
   ],
   "source": [
    "#Задание 1\n",
    "\n",
    "#Скачайте с сайта https://grouplens.org/datasets/movielens/ датасет любого размера.\n",
    "#Определите какому фильму было выставлено больше всего оценок 5.0.\n",
    "\n",
    "import pandas as pd\n",
    "data=pd.read_csv('/Users/tanyamak/Desktop/Нетология_Анализ данных/Python/6_Pandas/ml-latest/ratings.csv')\n",
    "#data[(data['rating']==5)]['movieId'].value_counts().head()\n",
    "data[(data['rating']==5)]['movieId'].value_counts().head(1)"
   ]
  },
  {
   "cell_type": "code",
   "execution_count": 4,
   "metadata": {},
   "outputs": [
    {
     "data": {
      "text/plain": [
       "219179627208.76712"
      ]
     },
     "execution_count": 4,
     "metadata": {},
     "output_type": "execute_result"
    }
   ],
   "source": [
    "#Задание 2\n",
    "\n",
    "#По данным файла power.csv посчитайте суммарное потребление стран Прибалтики (Латвия, Литва и Эстония)\n",
    "#категорий 4, 12 и 21 за период с 2005 по 2010 года. Не учитывайте в расчетах отрицательные значения quantity.\n",
    "\n",
    "import pandas as pd\n",
    "data2 = pd.read_csv('power.csv')\n",
    "\n",
    "filter1=data2['country'].isin(['Estonia','Lithuania','Latvia'])\n",
    "filter2 = data2['category'].isin([4,12,21])\n",
    "filter3 = data2['year'].isin([2005,2006,2007,2008,2009,2010])  #не получается интервалом задать\n",
    "\n",
    "data2[filter1 & filter2 & filter3]\n",
    "#data2['quantity'].data2[data2.quantity > 0].sum() #не работает с условием quantity > 0\n",
    "data2['quantity'].sum()"
   ]
  },
  {
   "cell_type": "code",
   "execution_count": 28,
   "metadata": {},
   "outputs": [
    {
     "data": {
      "text/plain": [
       "array(['Lithuania'], dtype=object)"
      ]
     },
     "execution_count": 28,
     "metadata": {},
     "output_type": "execute_result"
    }
   ],
   "source": [
    "#поиск того, как названа Литва в файле power.csv\n",
    "data2[data2['country'].str.contains('lit',case=False)]['country'].unique()"
   ]
  },
  {
   "cell_type": "code",
   "execution_count": 8,
   "metadata": {},
   "outputs": [
    {
     "data": {
      "text/plain": [
       "array(['Estonia'], dtype=object)"
      ]
     },
     "execution_count": 8,
     "metadata": {},
     "output_type": "execute_result"
    }
   ],
   "source": [
    "#поиск того, как названа Эстония в файле power.csv\n",
    "data2[data2['country'].str.contains('sto',case=False)]['country'].unique()"
   ]
  },
  {
   "cell_type": "code",
   "execution_count": 9,
   "metadata": {},
   "outputs": [
    {
     "data": {
      "text/html": [
       "<div>\n",
       "<style scoped>\n",
       "    .dataframe tbody tr th:only-of-type {\n",
       "        vertical-align: middle;\n",
       "    }\n",
       "\n",
       "    .dataframe tbody tr th {\n",
       "        vertical-align: top;\n",
       "    }\n",
       "\n",
       "    .dataframe thead th {\n",
       "        text-align: right;\n",
       "    }\n",
       "</style>\n",
       "<table border=\"1\" class=\"dataframe\">\n",
       "  <thead>\n",
       "    <tr style=\"text-align: right;\">\n",
       "      <th></th>\n",
       "      <th>Type</th>\n",
       "      <th>Last</th>\n",
       "      <th>Chg.</th>\n",
       "      <th>Chg.%</th>\n",
       "      <th>Time</th>\n",
       "    </tr>\n",
       "  </thead>\n",
       "  <tbody>\n",
       "    <tr>\n",
       "      <th>0</th>\n",
       "      <td>ВТБ Акции ОАО ВТБ</td>\n",
       "      <td>0.03871</td>\n",
       "      <td>-0.00053</td>\n",
       "      <td>-1.35066</td>\n",
       "      <td>NaN</td>\n",
       "    </tr>\n",
       "    <tr>\n",
       "      <th>1</th>\n",
       "      <td>Газпром Акции газпрома</td>\n",
       "      <td>232.78000</td>\n",
       "      <td>+1.55</td>\n",
       "      <td>0.67000</td>\n",
       "      <td>NaN</td>\n",
       "    </tr>\n",
       "    <tr>\n",
       "      <th>2</th>\n",
       "      <td>Лукоил Акции Лукойл</td>\n",
       "      <td>5281.50000</td>\n",
       "      <td>+7.5</td>\n",
       "      <td>0.10000</td>\n",
       "      <td>NaN</td>\n",
       "    </tr>\n",
       "    <tr>\n",
       "      <th>3</th>\n",
       "      <td>Роснефть Акции Роснефти</td>\n",
       "      <td>406.80000</td>\n",
       "      <td>-3.20</td>\n",
       "      <td>-0.78000</td>\n",
       "      <td>NaN</td>\n",
       "    </tr>\n",
       "    <tr>\n",
       "      <th>4</th>\n",
       "      <td>Сбербанк Акции Сбербанка</td>\n",
       "      <td>219.92000</td>\n",
       "      <td>+1.11</td>\n",
       "      <td>0.51000</td>\n",
       "      <td>NaN</td>\n",
       "    </tr>\n",
       "    <tr>\n",
       "      <th>5</th>\n",
       "      <td>Сургутнефтегаз Акции Сургутнефтегаза</td>\n",
       "      <td>25.62000</td>\n",
       "      <td>-0.190</td>\n",
       "      <td>-0.73600</td>\n",
       "      <td>NaN</td>\n",
       "    </tr>\n",
       "    <tr>\n",
       "      <th>6</th>\n",
       "      <td>Норникель Акции Норникель</td>\n",
       "      <td>15456.00000</td>\n",
       "      <td>+348</td>\n",
       "      <td>2.00000</td>\n",
       "      <td>NaN</td>\n",
       "    </tr>\n",
       "    <tr>\n",
       "      <th>7</th>\n",
       "      <td>Аэрофлот Акции Аерофлота</td>\n",
       "      <td>109.40000</td>\n",
       "      <td>+12.59</td>\n",
       "      <td>13.00000</td>\n",
       "      <td>NaN</td>\n",
       "    </tr>\n",
       "    <tr>\n",
       "      <th>8</th>\n",
       "      <td>Северсталь Акции Северсталь</td>\n",
       "      <td>944.80000</td>\n",
       "      <td>-9.4</td>\n",
       "      <td>-1.00000</td>\n",
       "      <td>NaN</td>\n",
       "    </tr>\n",
       "    <tr>\n",
       "      <th>9</th>\n",
       "      <td>Транснефть Акции транснефти</td>\n",
       "      <td>146250.00000</td>\n",
       "      <td>-20 050</td>\n",
       "      <td>-12.00000</td>\n",
       "      <td>NaN</td>\n",
       "    </tr>\n",
       "    <tr>\n",
       "      <th>10</th>\n",
       "      <td>Ростелеком Курс акций ростелекома</td>\n",
       "      <td>81.10000</td>\n",
       "      <td>+8.27</td>\n",
       "      <td>11.36000</td>\n",
       "      <td>NaN</td>\n",
       "    </tr>\n",
       "    <tr>\n",
       "      <th>11</th>\n",
       "      <td>RUSAL акции RUSAL</td>\n",
       "      <td>3.14000</td>\n",
       "      <td>+0.09</td>\n",
       "      <td>2.95000</td>\n",
       "      <td>NaN</td>\n",
       "    </tr>\n",
       "  </tbody>\n",
       "</table>\n",
       "</div>"
      ],
      "text/plain": [
       "                                    Type          Last      Chg.     Chg.%  \\\n",
       "0                      ВТБ Акции ОАО ВТБ       0.03871  -0.00053  -1.35066   \n",
       "1                 Газпром Акции газпрома     232.78000     +1.55   0.67000   \n",
       "2                    Лукоил Акции Лукойл    5281.50000      +7.5   0.10000   \n",
       "3                Роснефть Акции Роснефти     406.80000     -3.20  -0.78000   \n",
       "4               Сбербанк Акции Сбербанка     219.92000     +1.11   0.51000   \n",
       "5   Сургутнефтегаз Акции Сургутнефтегаза      25.62000    -0.190  -0.73600   \n",
       "6              Норникель Акции Норникель   15456.00000      +348   2.00000   \n",
       "7               Аэрофлот Акции Аерофлота     109.40000    +12.59  13.00000   \n",
       "8            Северсталь Акции Северсталь     944.80000      -9.4  -1.00000   \n",
       "9            Транснефть Акции транснефти  146250.00000   -20 050 -12.00000   \n",
       "10     Ростелеком Курс акций ростелекома      81.10000     +8.27  11.36000   \n",
       "11                     RUSAL акции RUSAL       3.14000     +0.09   2.95000   \n",
       "\n",
       "    Time  \n",
       "0    NaN  \n",
       "1    NaN  \n",
       "2    NaN  \n",
       "3    NaN  \n",
       "4    NaN  \n",
       "5    NaN  \n",
       "6    NaN  \n",
       "7    NaN  \n",
       "8    NaN  \n",
       "9    NaN  \n",
       "10   NaN  \n",
       "11   NaN  "
      ]
     },
     "execution_count": 9,
     "metadata": {},
     "output_type": "execute_result"
    }
   ],
   "source": [
    "#Задание 3\n",
    "\n",
    "#Выберите страницу любого сайта с табличными данными. Импортируйте таблицы в pandas dataframe.\n",
    "#Примеры страниц (необязательно брать именно эти):\n",
    "#https://fortrader.org/quotes\n",
    "#https://www.finanz.ru/valyuty/v-realnom-vremeni\n",
    "\n",
    "import pandas as pd\n",
    "pd.read_html('https://fortrader.org/quotes')[1]"
   ]
  }
 ],
 "metadata": {
  "kernelspec": {
   "display_name": "Python 3",
   "language": "python",
   "name": "python3"
  },
  "language_info": {
   "codemirror_mode": {
    "name": "ipython",
    "version": 3
   },
   "file_extension": ".py",
   "mimetype": "text/x-python",
   "name": "python",
   "nbconvert_exporter": "python",
   "pygments_lexer": "ipython3",
   "version": "3.7.3"
  }
 },
 "nbformat": 4,
 "nbformat_minor": 2
}
