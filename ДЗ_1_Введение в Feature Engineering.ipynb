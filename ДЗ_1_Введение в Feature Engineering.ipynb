{
 "cells": [
  {
   "cell_type": "code",
   "execution_count": 7,
   "metadata": {},
   "outputs": [],
   "source": [
    "import numpy as np\n",
    "import pandas as pd\n",
    "from sklearn.linear_model import LinearRegression"
   ]
  },
  {
   "cell_type": "code",
   "execution_count": 19,
   "metadata": {},
   "outputs": [
    {
     "data": {
      "text/html": [
       "<div>\n",
       "<style scoped>\n",
       "    .dataframe tbody tr th:only-of-type {\n",
       "        vertical-align: middle;\n",
       "    }\n",
       "\n",
       "    .dataframe tbody tr th {\n",
       "        vertical-align: top;\n",
       "    }\n",
       "\n",
       "    .dataframe thead th {\n",
       "        text-align: right;\n",
       "    }\n",
       "</style>\n",
       "<table border=\"1\" class=\"dataframe\">\n",
       "  <thead>\n",
       "    <tr style=\"text-align: right;\">\n",
       "      <th></th>\n",
       "      <th>age_saver</th>\n",
       "      <th>wages</th>\n",
       "      <th>education</th>\n",
       "      <th>savings</th>\n",
       "    </tr>\n",
       "  </thead>\n",
       "  <tbody>\n",
       "    <tr>\n",
       "      <th>0</th>\n",
       "      <td>72</td>\n",
       "      <td>465717</td>\n",
       "      <td>1</td>\n",
       "      <td>139715.1</td>\n",
       "    </tr>\n",
       "    <tr>\n",
       "      <th>1</th>\n",
       "      <td>68</td>\n",
       "      <td>779835</td>\n",
       "      <td>1</td>\n",
       "      <td>233950.5</td>\n",
       "    </tr>\n",
       "    <tr>\n",
       "      <th>2</th>\n",
       "      <td>86</td>\n",
       "      <td>736683</td>\n",
       "      <td>0</td>\n",
       "      <td>221004.9</td>\n",
       "    </tr>\n",
       "    <tr>\n",
       "      <th>3</th>\n",
       "      <td>99</td>\n",
       "      <td>343826</td>\n",
       "      <td>1</td>\n",
       "      <td>103147.8</td>\n",
       "    </tr>\n",
       "    <tr>\n",
       "      <th>4</th>\n",
       "      <td>18</td>\n",
       "      <td>684165</td>\n",
       "      <td>0</td>\n",
       "      <td>205249.5</td>\n",
       "    </tr>\n",
       "  </tbody>\n",
       "</table>\n",
       "</div>"
      ],
      "text/plain": [
       "   age_saver   wages  education   savings\n",
       "0         72  465717          1  139715.1\n",
       "1         68  779835          1  233950.5\n",
       "2         86  736683          0  221004.9\n",
       "3         99  343826          1  103147.8\n",
       "4         18  684165          0  205249.5"
      ]
     },
     "execution_count": 19,
     "metadata": {},
     "output_type": "execute_result"
    }
   ],
   "source": [
    "# Создаём выборку для описания модели суммы сбережений, которая предположительно зависит от заработной платы,\n",
    "# возраста, образования\n",
    "\n",
    "n_samples = 200\n",
    "\n",
    "age_saver = np.random.choice(100, n_samples) + 18\n",
    "wages = np.random.choice(1000000, n_samples) + 30000\n",
    "education = np.random.choice(2, n_samples)\n",
    "savings = wages*0.3\n",
    "\n",
    "data = pd.DataFrame({'age_saver': age_saver, 'wages': wages, 'education': education, 'savings': savings})\n",
    "data.head(5)"
   ]
  },
  {
   "cell_type": "code",
   "execution_count": 21,
   "metadata": {},
   "outputs": [
    {
     "name": "stdout",
     "output_type": "stream",
     "text": [
      "Weights: [-1.37329459e-14  3.00000000e-01 -6.17665557e-12]\n",
      "Bias: 8.731149137020111e-11\n",
      "Error: 3.8698999560438094e-11\n"
     ]
    }
   ],
   "source": [
    "# Построим линейную регресиию, где признаками будут 'age_saver', 'wages', 'education',\n",
    "# которые будут определять размер сбережений ('savings')\n",
    "\n",
    "from sklearn.metrics import mean_absolute_error\n",
    "X = data[['age_saver', 'wages', 'education']]\n",
    "y = data['savings']\n",
    "reg = LinearRegression().fit(X, y)\n",
    "print('Weights: {}'.format(reg.coef_))\n",
    "print('Bias: {}'.format(reg.intercept_))\n",
    "\n",
    "pred_values = reg.predict(data[['age_saver', 'wages', 'education']])\n",
    "print('Error: {}'.format(mean_absolute_error(pred_values, y)))\n",
    "\n",
    "# модель хорошо описывает данные, ошибка (Error) очень маленькая"
   ]
  },
  {
   "cell_type": "code",
   "execution_count": 29,
   "metadata": {},
   "outputs": [
    {
     "name": "stdout",
     "output_type": "stream",
     "text": [
      "Weights: [-2.86208244e-14  3.00000000e-01 -1.79931677e-12]\n",
      "Bias: -1.4551915228366852e-10\n",
      "Error: 6.004847818985581e-11\n"
     ]
    }
   ],
   "source": [
    "# Попробуем при прочих равных увеличить выборку до 1000\n",
    "n_samples = 1000\n",
    "\n",
    "age_saver = np.random.choice(100, n_samples) + 18\n",
    "wages = np.random.choice(1000000, n_samples) + 30000\n",
    "education = np.random.choice(2, n_samples)\n",
    "savings = wages*0.3\n",
    "\n",
    "data = pd.DataFrame({'age_saver': age_saver, 'wages': wages, 'education': education, 'savings': savings})\n",
    "\n",
    "from sklearn.metrics import mean_absolute_error\n",
    "X = data[['age_saver', 'wages', 'education']]\n",
    "y = data['savings']\n",
    "reg = LinearRegression().fit(X, y)\n",
    "print('Weights: {}'.format(reg.coef_))\n",
    "print('Bias: {}'.format(reg.intercept_))\n",
    "\n",
    "pred_values = reg.predict(data[['age_saver', 'wages', 'education']])\n",
    "print('Error: {}'.format(mean_absolute_error(pred_values, y)))\n",
    "\n",
    "# Ошибка уменьшалась в два раза - модель стала лучше"
   ]
  },
  {
   "cell_type": "code",
   "execution_count": 30,
   "metadata": {},
   "outputs": [
    {
     "name": "stdout",
     "output_type": "stream",
     "text": [
      "Weights: [ 1.18986096e+01 -1.22665682e+04]\n",
      "Bias: 166347.64037094914\n",
      "Error: 73359.08122224674\n"
     ]
    }
   ],
   "source": [
    "# Попробуем исключить из модели показатель 'wages', так как он очень сильно коррелирует\n",
    "# со значением savings (я сама это задала)\n",
    "\n",
    "X = data[['age_saver', 'education']]\n",
    "y = data['savings']\n",
    "reg = LinearRegression().fit(X, y)\n",
    "print('Weights: {}'.format(reg.coef_))\n",
    "print('Bias: {}'.format(reg.intercept_))\n",
    "\n",
    "pred_values = reg.predict(data[['age_saver', 'education']])\n",
    "print('Error: {}'.format(mean_absolute_error(pred_values, y)))\n",
    "\n",
    "# судя по изменению значения ошибки, которая очень сильно возрасла, показатель 'wages' нельзя исключать из модели"
   ]
  },
  {
   "cell_type": "code",
   "execution_count": 31,
   "metadata": {},
   "outputs": [
    {
     "data": {
      "text/html": [
       "<div>\n",
       "<style scoped>\n",
       "    .dataframe tbody tr th:only-of-type {\n",
       "        vertical-align: middle;\n",
       "    }\n",
       "\n",
       "    .dataframe tbody tr th {\n",
       "        vertical-align: top;\n",
       "    }\n",
       "\n",
       "    .dataframe thead th {\n",
       "        text-align: right;\n",
       "    }\n",
       "</style>\n",
       "<table border=\"1\" class=\"dataframe\">\n",
       "  <thead>\n",
       "    <tr style=\"text-align: right;\">\n",
       "      <th></th>\n",
       "      <th>age_saver</th>\n",
       "      <th>wages</th>\n",
       "      <th>education</th>\n",
       "      <th>savings</th>\n",
       "      <th>mult</th>\n",
       "    </tr>\n",
       "  </thead>\n",
       "  <tbody>\n",
       "    <tr>\n",
       "      <th>0</th>\n",
       "      <td>94</td>\n",
       "      <td>803616</td>\n",
       "      <td>1</td>\n",
       "      <td>241084.8</td>\n",
       "      <td>94</td>\n",
       "    </tr>\n",
       "    <tr>\n",
       "      <th>1</th>\n",
       "      <td>39</td>\n",
       "      <td>125250</td>\n",
       "      <td>1</td>\n",
       "      <td>37575.0</td>\n",
       "      <td>39</td>\n",
       "    </tr>\n",
       "    <tr>\n",
       "      <th>2</th>\n",
       "      <td>68</td>\n",
       "      <td>505663</td>\n",
       "      <td>0</td>\n",
       "      <td>151698.9</td>\n",
       "      <td>0</td>\n",
       "    </tr>\n",
       "    <tr>\n",
       "      <th>3</th>\n",
       "      <td>60</td>\n",
       "      <td>668897</td>\n",
       "      <td>0</td>\n",
       "      <td>200669.1</td>\n",
       "      <td>0</td>\n",
       "    </tr>\n",
       "    <tr>\n",
       "      <th>4</th>\n",
       "      <td>40</td>\n",
       "      <td>828853</td>\n",
       "      <td>1</td>\n",
       "      <td>248655.9</td>\n",
       "      <td>40</td>\n",
       "    </tr>\n",
       "  </tbody>\n",
       "</table>\n",
       "</div>"
      ],
      "text/plain": [
       "   age_saver   wages  education   savings  mult\n",
       "0         94  803616          1  241084.8    94\n",
       "1         39  125250          1   37575.0    39\n",
       "2         68  505663          0  151698.9     0\n",
       "3         60  668897          0  200669.1     0\n",
       "4         40  828853          1  248655.9    40"
      ]
     },
     "execution_count": 31,
     "metadata": {},
     "output_type": "execute_result"
    }
   ],
   "source": [
    "# Создадим новый признак - то есть мы говорим, учитывая бинальный признак образования [0,1], что возраст влияет\n",
    "# на размер сбережений, только если есть образование\n",
    "data['mult'] = data['age_saver'] * data['education']\n",
    "data.head(5)"
   ]
  },
  {
   "cell_type": "code",
   "execution_count": 32,
   "metadata": {},
   "outputs": [
    {
     "name": "stdout",
     "output_type": "stream",
     "text": [
      "Weights: [9.38745144e-14 3.00000000e-01]\n",
      "Bias: -2.9103830456733704e-11\n",
      "Error: 160674.97230000002\n"
     ]
    }
   ],
   "source": [
    "X = data[['mult', 'wages']]\n",
    "y = data['savings']\n",
    "reg = LinearRegression().fit(X, y)\n",
    "print('Weights: {}'.format(reg.coef_))\n",
    "print('Bias: {}'.format(reg.intercept_))\n",
    "\n",
    "pred_values = reg.predict(data[['mult', 'education']])\n",
    "print('Error: {}'.format(mean_absolute_error(pred_values, y)))\n",
    "\n",
    "# Ошибка большая, модель плохо описывает данные - \n",
    "# значит возраст влияет не только, когда есть образование (предполагаем, высшее)"
   ]
  },
  {
   "cell_type": "code",
   "execution_count": 33,
   "metadata": {},
   "outputs": [
    {
     "data": {
      "text/html": [
       "<div>\n",
       "<style scoped>\n",
       "    .dataframe tbody tr th:only-of-type {\n",
       "        vertical-align: middle;\n",
       "    }\n",
       "\n",
       "    .dataframe tbody tr th {\n",
       "        vertical-align: top;\n",
       "    }\n",
       "\n",
       "    .dataframe thead th {\n",
       "        text-align: right;\n",
       "    }\n",
       "</style>\n",
       "<table border=\"1\" class=\"dataframe\">\n",
       "  <thead>\n",
       "    <tr style=\"text-align: right;\">\n",
       "      <th></th>\n",
       "      <th>age_saver</th>\n",
       "      <th>wages</th>\n",
       "      <th>education</th>\n",
       "      <th>savings</th>\n",
       "      <th>mult</th>\n",
       "      <th>marital_status</th>\n",
       "      <th>children</th>\n",
       "    </tr>\n",
       "  </thead>\n",
       "  <tbody>\n",
       "    <tr>\n",
       "      <th>0</th>\n",
       "      <td>94</td>\n",
       "      <td>803616</td>\n",
       "      <td>1</td>\n",
       "      <td>241084.8</td>\n",
       "      <td>94</td>\n",
       "      <td>1</td>\n",
       "      <td>5</td>\n",
       "    </tr>\n",
       "    <tr>\n",
       "      <th>1</th>\n",
       "      <td>39</td>\n",
       "      <td>125250</td>\n",
       "      <td>1</td>\n",
       "      <td>37575.0</td>\n",
       "      <td>39</td>\n",
       "      <td>0</td>\n",
       "      <td>3</td>\n",
       "    </tr>\n",
       "    <tr>\n",
       "      <th>2</th>\n",
       "      <td>68</td>\n",
       "      <td>505663</td>\n",
       "      <td>0</td>\n",
       "      <td>151698.9</td>\n",
       "      <td>0</td>\n",
       "      <td>0</td>\n",
       "      <td>0</td>\n",
       "    </tr>\n",
       "    <tr>\n",
       "      <th>3</th>\n",
       "      <td>60</td>\n",
       "      <td>668897</td>\n",
       "      <td>0</td>\n",
       "      <td>200669.1</td>\n",
       "      <td>0</td>\n",
       "      <td>1</td>\n",
       "      <td>8</td>\n",
       "    </tr>\n",
       "    <tr>\n",
       "      <th>4</th>\n",
       "      <td>40</td>\n",
       "      <td>828853</td>\n",
       "      <td>1</td>\n",
       "      <td>248655.9</td>\n",
       "      <td>40</td>\n",
       "      <td>1</td>\n",
       "      <td>0</td>\n",
       "    </tr>\n",
       "  </tbody>\n",
       "</table>\n",
       "</div>"
      ],
      "text/plain": [
       "   age_saver   wages  education   savings  mult  marital_status  children\n",
       "0         94  803616          1  241084.8    94               1         5\n",
       "1         39  125250          1   37575.0    39               0         3\n",
       "2         68  505663          0  151698.9     0               0         0\n",
       "3         60  668897          0  200669.1     0               1         8\n",
       "4         40  828853          1  248655.9    40               1         0"
      ]
     },
     "execution_count": 33,
     "metadata": {},
     "output_type": "execute_result"
    }
   ],
   "source": [
    "# Добавим еще два признака  - семейное положение и количество детей\n",
    "data['marital_status'] = np.random.choice(2, n_samples)\n",
    "data['children'] = np.random.choice(10, n_samples)\n",
    "data.head(5)"
   ]
  },
  {
   "cell_type": "code",
   "execution_count": 34,
   "metadata": {},
   "outputs": [
    {
     "name": "stdout",
     "output_type": "stream",
     "text": [
      "Weights: [-2.87968379e-14  3.00000000e-01 -1.82056047e-12  8.62071560e-13\n",
      "  4.84647251e-14]\n",
      "Bias: -2.9103830456733704e-11\n",
      "Error: 3.1781382858753207e-11\n"
     ]
    }
   ],
   "source": [
    "# Построим линейную регресиию, где признаками будут 'age_saver', 'wages', 'education', 'marital_status', 'children',\n",
    "# которые будут определять размер сбережений ('savings')\n",
    "\n",
    "from sklearn.metrics import mean_absolute_error\n",
    "X = data[['age_saver', 'wages', 'education','marital_status','children']]\n",
    "y = data['savings']\n",
    "reg = LinearRegression().fit(X, y)\n",
    "print('Weights: {}'.format(reg.coef_))\n",
    "print('Bias: {}'.format(reg.intercept_))\n",
    "\n",
    "pred_values = reg.predict(data[['age_saver', 'wages', 'education','marital_status','children']])\n",
    "print('Error: {}'.format(mean_absolute_error(pred_values, y)))\n",
    "\n",
    "# модель хорошо описывает данные, ошибка (Error) очень маленькая, но больше, чем в первой регрессии"
   ]
  },
  {
   "cell_type": "code",
   "execution_count": 36,
   "metadata": {},
   "outputs": [
    {
     "name": "stdout",
     "output_type": "stream",
     "text": [
      "Weights: [ 9.26566881e-14  3.00000000e-01 -1.40926671e-12]\n",
      "Bias: -2.3283064365386963e-10\n",
      "Error: 9.940777090378105e-11\n"
     ]
    }
   ],
   "source": [
    "# Можно изменить параметры: например, брать выборку по возрасту от 35 лет, и уровень заработной платы от 100 000 у.е.\n",
    "\n",
    "n_samples = 1000\n",
    "age_saver = np.random.choice(100, n_samples) + 35\n",
    "wages = np.random.choice(1000000, n_samples) + 100000\n",
    "education = np.random.choice(2, n_samples)\n",
    "savings = wages*0.3\n",
    "\n",
    "data = pd.DataFrame({'age_saver': age_saver, 'wages': wages, 'education': education, 'savings': savings})\n",
    "\n",
    "from sklearn.metrics import mean_absolute_error\n",
    "X = data[['age_saver', 'wages', 'education']]\n",
    "y = data['savings']\n",
    "reg = LinearRegression().fit(X, y)\n",
    "print('Weights: {}'.format(reg.coef_))\n",
    "print('Bias: {}'.format(reg.intercept_))\n",
    "\n",
    "pred_values = reg.predict(data[['age_saver', 'wages', 'education']])\n",
    "print('Error: {}'.format(mean_absolute_error(pred_values, y)))\n",
    "\n",
    "# данная модель лучше предыдущих описывает данные, ошибка (Error) очень маленькая"
   ]
  }
 ],
 "metadata": {
  "kernelspec": {
   "display_name": "Python 3",
   "language": "python",
   "name": "python3"
  },
  "language_info": {
   "codemirror_mode": {
    "name": "ipython",
    "version": 3
   },
   "file_extension": ".py",
   "mimetype": "text/x-python",
   "name": "python",
   "nbconvert_exporter": "python",
   "pygments_lexer": "ipython3",
   "version": "3.7.3"
  }
 },
 "nbformat": 4,
 "nbformat_minor": 2
}
